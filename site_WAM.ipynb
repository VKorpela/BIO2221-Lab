{
  "nbformat": 4,
  "nbformat_minor": 0,
  "metadata": {
    "colab": {
      "name": "site_WAM.ipynb",
      "provenance": [],
      "collapsed_sections": [],
      "authorship_tag": "ABX9TyM96wLO+AqTpyNA/qBY0OKY"
    },
    "kernelspec": {
      "name": "python3",
      "display_name": "Python 3"
    },
    "language_info": {
      "name": "python"
    }
  },
  "cells": [
    {
      "cell_type": "markdown",
      "source": [
        "# 使用WAM预测donor位点\n",
        "> 生科登峰1901班，吴思承\n",
        ">\n",
        "> U201912536"
      ],
      "metadata": {
        "id": "lyUKqlbyjPx9"
      }
    },
    {
      "cell_type": "markdown",
      "source": [
        "## 概述\n",
        "真核生物的基因包含外显子和内含子，在转录完成后，需要进行加工，选择性地将外显子连接起来，最终得到成熟的mRNA。而研究显示，在内含子与外显子的边界上，存在保守的剪接位点。其中，我们将位于内含子左侧（5'端）的剪接位点称为供体（donor），而位于内含子右侧（3'端）的剪接位点称为受体（acceptor）。\n",
        "\n",
        "在基因预测工作中，研究人员往往需要明确DNA中实际编码蛋白质的部分。此时便需要预测RNA上的选择性剪接方式，而作为内含子边界上的保守序列，donor位点的识别对内含子、外显子的位置、数量的确定有着巨大的用处。\n",
        "\n",
        "预测donor位点的方法包括WMM、WAM到SVN、神经网络等，颇为丰富。本上机报告选择实现其中的WAM模型，并对其实际预测效果进行评估。"
      ],
      "metadata": {
        "id": "fNCD188cL0sK"
      }
    },
    {
      "cell_type": "markdown",
      "source": [
        "## 方法"
      ],
      "metadata": {
        "id": "3Uwuv6smL7CL"
      }
    },
    {
      "cell_type": "markdown",
      "source": [
        "### WAM的原理\n",
        "贝叶斯方法是统计决策的基本方法之一，其思想是已知特征的类条件概率分布、类的先验概率，利用贝叶斯公式转换为后验概率，再根据后验概率大小进行决策分类。\n",
        "\n",
        "在理想状态下，若想要使用贝叶斯分类器对序列片段$X=x_1x_2x_3...x_{\\lambda-1}x_\\lambda$中的donor位点进行识别，则需要计算如下所示的判别函数\n",
        "\n",
        "$$g(X)=\\frac{P^+(X)}{P^-(X)}$$\n",
        "\n",
        "但是实际应用中，样本数量受限，$P(X|\\omega_i)$等高维分布的计算极其困难。而WAM基于下面的假设，对贝叶斯中的后验概率计算进行了简化\n",
        "\n",
        "$$P(X|\\omega_i)=P(1, x_1|\\omega_i)\\prod_{i=2}^\\lambda P(i, x_{i-1}, x_i)$$\n",
        "\n",
        "判别函数则简化为\n",
        "\n",
        "$$g(X)=\\frac{P^+(1, x_1)}{P^-(1, x_1)}\\prod_{i=2}^\\lambda\\frac{P^+(i, x_{i-1}, x_i)}{P^-(i, x_{i-1}, x_i)}$$\n",
        "\n",
        "考虑到计算概率时可能存在的精度问题，并降低计算难度，改为使用对数打分\n",
        "\n",
        "$$S(X)=\\ln g(X)=\\ln\\frac{P^+(1,x_1)}{P^-(1,x_1)}+\\sum^\\lambda_{i=2}\\ln\\frac{P^+(i,x_{i-1},x_i)}{P^-(i,x_{i-1},x_i)}$$\n",
        "\n",
        "因此需要统计剪切位点附近的碱基组成，构建位置概率矩阵，并得到打分矩阵。在进行位点识别时，利用打分矩阵对给定序列进行打分，若得分高于阈值，则判定为donor位点。"
      ],
      "metadata": {
        "id": "OY3HIptBcoI3"
      }
    },
    {
      "cell_type": "markdown",
      "source": [
        "### 依赖加载与数据挂载\n",
        "在本次上机中，本人使用Python（Jupyter Notebook）实现WAM模型。代码在Google Colab的云服务上运行，数据存储在账号对应的Google Drive上，故需要执行额外的代码，进行云盘的挂载。\n",
        "\n",
        "调用的依赖库中，``os``用于读取文件，``re``用于正则表达式辨别数据中的外显子信息，``matplotlib``用于绘制图像，``tqdm``用于生成数据读取的进度条，``sklearn``用于提供现成的模型性能评估方法。\n",
        "\n"
      ],
      "metadata": {
        "id": "KF6G_nlDmdRm"
      }
    },
    {
      "cell_type": "code",
      "source": [
        "import os\n",
        "import re\n",
        "import numpy as np\n",
        "import matplotlib.pyplot as plt\n",
        "from tqdm import tqdm\n",
        "from sklearn.metrics import roc_curve, auc, f1_score, confusion_matrix\n",
        "\n",
        "# 挂载Google Drive\n",
        "from google.colab import drive\n",
        "drive.mount('/content/drive')\n",
        "\n",
        "# 数据储存路径\n",
        "training_path = '/content/drive/MyDrive/Collab Files/donor_dataset/testing'\n",
        "testing_path = '/content/drive/MyDrive/Collab Files/donor_dataset/testing'\n"
      ],
      "metadata": {
        "id": "gk4SJZRFjXMG"
      },
      "execution_count": null,
      "outputs": []
    },
    {
      "cell_type": "markdown",
      "source": [
        "### 前景与背景碱基频数的统计\n",
        "使用函数``nucleotide_frequency_count``进行碱基前景频率和背景频率的统计：逐文件读取训练用的序列数据，并通过正则表达式读取外显子信息，识别其中的donor位点。在识别到位点后，将位点与位点前``k1``个碱基、位点后``k2``个碱基的片段提取出来，用于前景频率的统计。同时对整个序列中的碱基进行统计，得到背景频率。\n",
        "\n",
        "函数返回的结果为三个numpy数组，形状分别为``(k1+k2+1, 4, 4)``、``(4, 4)``和``(4)``，对应统计的前景频率、成对碱基的背景频率以及单个碱基的背景频率。判别用的小片段的首位不存在“前一位碱基”，只需统计该位上的碱基频率，约定储存在``(0, 0, x)``位置（``x``为碱基对应的下标）。\n",
        "\n",
        "四个碱基和数组下标的对应关系由字典``nucleotide_to_num``提供。提供的序列数据中，除``a``、``t``、``c``、``g``四个碱基以外，还包含表示不确定碱基的``n``、``b``等。在统计时，不确定的碱基位点将会被直接忽略。"
      ],
      "metadata": {
        "id": "YtlIdlkeNhT9"
      }
    },
    {
      "cell_type": "code",
      "source": [
        "# nucleotide_to_num：提供碱基与数组下标的映射关系\n",
        "nucleotide_to_num = {\n",
        "    'a': 0,\n",
        "    't': 1,\n",
        "    'c': 2,\n",
        "    'g': 3\n",
        "}\n",
        "\n",
        "# is_nt：判断输入是否为a、t、c、g之一\n",
        "def is_nt(nt):\n",
        "    return nt in 'atcg'\n",
        "\n",
        "print('nucleotide_to_num: ', nucleotide_to_num)"
      ],
      "metadata": {
        "id": "CppAASqXXzT4"
      },
      "execution_count": null,
      "outputs": []
    },
    {
      "cell_type": "code",
      "source": [
        "# nucleotide_frequency_count：进行碱基前景频率和背景频率的统计\n",
        "def nucleotide_frequency_count(file_path, k1=4, k2=4, nucleotide_to_num=nucleotide_to_num):\n",
        "    foreground_freq = np.zeros((k1 + k2 + 1, 4, 4), dtype=int)\n",
        "    background_freq = np.zeros((4, 4), dtype=int)\n",
        "    total_freq = np.zeros((4), dtype=int)\n",
        "\n",
        "    # 逐个读取文件，进行统计\n",
        "    print('Handling files in \\'' + file_path + '\\' ...')\n",
        "    for data_file in tqdm(os.listdir(file_path)):\n",
        "        with open(file_path + '/' + data_file, 'r') as FILE:\n",
        "            lines = FILE.readlines()\n",
        "            sequence = ''.join(lines[2:]).replace('\\n', '').lower()\n",
        "            donor_sites = re.findall('(\\d+)(?=,)', lines[1])\n",
        "\n",
        "            # 逐位点进行前景频率的统计\n",
        "            for site in donor_sites:\n",
        "                # 提取判别用的片段\n",
        "                site_num = eval(site)\n",
        "                subsequence = sequence[site_num - k1 - 1:site_num + k2]\n",
        "                \n",
        "                # 特别处理第一位\n",
        "                if is_nt(subsequence[0]):\n",
        "                    current_nt = nucleotide_to_num[subsequence[0]]\n",
        "                    foreground_freq[0, 0, current_nt] += 1\n",
        "\n",
        "                # 统计剩余的每一位\n",
        "                for i in range(1, k1 + k2 + 1):\n",
        "                    if not is_nt(subsequence[i]) or not is_nt(subsequence[i - 1]):\n",
        "                        continue\n",
        "                    current_nt = nucleotide_to_num[subsequence[i]]\n",
        "                    previous_nt = nucleotide_to_num[subsequence[i - 1]]\n",
        "                    foreground_freq[i, previous_nt, current_nt] += 1\n",
        "\n",
        "            # 统计单个碱基的背景频率\n",
        "            for i in range(len(sequence)):\n",
        "                if not is_nt(sequence[i]):\n",
        "                    continue\n",
        "                current_nt = nucleotide_to_num[sequence[i]]\n",
        "                total_freq[current_nt] += 1\n",
        "\n",
        "            # 统计成对碱基的背景频率\n",
        "            for i in range(1, len(sequence)):\n",
        "                if not is_nt(sequence[i]) or not is_nt(sequence[i - 1]):\n",
        "                    continue\n",
        "                current_nt = nucleotide_to_num[sequence[i]]\n",
        "                previous_nt = nucleotide_to_num[sequence[i - 1]]\n",
        "                background_freq[previous_nt, current_nt] += 1\n",
        "\n",
        "    return foreground_freq, background_freq, total_freq"
      ],
      "metadata": {
        "id": "PvaCRTGPYPHQ"
      },
      "execution_count": null,
      "outputs": []
    },
    {
      "cell_type": "markdown",
      "source": [
        "### 基于碱基频率计算对数打分表\n",
        "如前所述，对已知序列片段$X=x_1x_2x_3...x_{\\lambda-1}x_\\lambda$，其WAM判别函数为\n",
        "\n",
        "$$S(X)=\\ln\\frac{P^+(1,x_1)}{P^-(1,x_1)}+\\sum^\\lambda_{i=2}\\ln\\frac{P^+(i,x_{i-1},x_i)}{P^-(i,x_{i-1},x_i)}$$\n",
        "\n",
        "因此需要将前景频率和背景频率转换成概率，并进一步计算出对数打分表$Score$，便可将判别函数转换为\n",
        "\n",
        "$$S(X) = Score(1, x_1) + \\sum^\\lambda_{i=2}Score(i, x_{i-1}, x_i)$$\n",
        "\n",
        "使用函数``calculate_log_score``实现这一工作，返回形状为``(k1+k2+1, 4, 4)``的numpy数组，为序列片段中对应位置、对应碱基组合的分数。片段首位依旧只需要当前位的碱基信息，和上一个函数返回相同，约定储存在``(0, 0, x)``中。"
      ],
      "metadata": {
        "id": "rkSrolktGoTh"
      }
    },
    {
      "cell_type": "code",
      "source": [
        "# calculate_log_score：将碱基前景频率和背景频率转换为对数打分表\n",
        "def calculate_log_score(foreground_freq, background_freq, total_freq):\n",
        "    foreground_prob = np.array(foreground_freq, dtype=float)\n",
        "    background_prob = np.array(background_freq, dtype=float)\n",
        "    total_prob = np.array(total_freq, dtype=float)\n",
        "    log_score = np.zeros_like(foreground_freq, dtype=float)\n",
        "\n",
        "    # 计算前景和背景概率\n",
        "    for i in range(foreground_freq.shape[0]):\n",
        "        foreground_prob[i] = foreground_freq[i] / foreground_freq[i].sum()\n",
        "    background_prob = background_freq / background_freq.sum()\n",
        "    total_prob = total_freq / total_freq.sum()\n",
        "\n",
        "    # 计算首位的分数\n",
        "    for i in range(4):\n",
        "        log_score[0, 0, i] = np.log(foreground_prob[0, 0, i] / total_prob[i])\n",
        "\n",
        "    # 计算其余每一位的分数\n",
        "    for i in range(1, log_score.shape[0]):\n",
        "        log_score[i] = np.log(foreground_prob[i] / background_prob)\n",
        "\n",
        "    return log_score"
      ],
      "metadata": {
        "id": "aIjy5eJWMf2Y"
      },
      "execution_count": null,
      "outputs": []
    },
    {
      "cell_type": "markdown",
      "source": [
        "### 对序列进行打分\n",
        "得到打分表$Score$后，便可以计算任意序列的判别函数\n",
        "\n",
        "$$S(X) = Score(1, x_1) + \\sum^\\lambda_{i=2}Score(i, x_{i-1}, x_i)$$\n",
        "\n",
        "使用函数``donor_score``进行上述计算。"
      ],
      "metadata": {
        "id": "wkfExJ0TYh4V"
      }
    },
    {
      "cell_type": "code",
      "source": [
        "# donor_score：判别函数的计算\n",
        "def donor_score(sequence, log_score):\n",
        "    k = len(sequence)\n",
        "    score = log_score[0, 0, nucleotide_to_num[sequence[0]]]\n",
        "\n",
        "    for i in range(1, k):\n",
        "        current_nt = nucleotide_to_num[sequence[i]]\n",
        "        previous_nt = nucleotide_to_num[sequence[i - 1]]\n",
        "        score += log_score[i, previous_nt, current_nt]\n",
        "    \n",
        "    return score"
      ],
      "metadata": {
        "id": "DH26RppTaxD3"
      },
      "execution_count": null,
      "outputs": []
    },
    {
      "cell_type": "markdown",
      "source": [
        "### 滑动窗口识别序列中的donor位点\n",
        "对于一段给定的序列，使用滑动窗口法，对序列中的每一个位点计算分数。若位点前后片段的分数大于阈值，则认为位点是可能的donor位点。\n",
        "\n",
        "使用函数``search_donor_site``实现这一功能。参数中``k1``、``k2``与``nucleotide_frequency_count``中相同，为位点前后纳入判别的碱基数量；参数``threshold``为判别阈值。函数输出一个列表，其中包含了可能的donor位点的位置，下标从1开始。"
      ],
      "metadata": {
        "id": "GfshAhhkiN4Y"
      }
    },
    {
      "cell_type": "code",
      "source": [
        "# search_donor_site：查找序列中的donor位点\n",
        "def search_donor_site(sequence, log_score, k1=4, k2=4, threshold=0):\n",
        "    donor_site = []\n",
        "    window_size = k1 + k2 + 1\n",
        "    seq_len = len(sequence)\n",
        "\n",
        "    # 滑动窗口判断donor位点\n",
        "    for i in range(seq_len - window_size + 1):\n",
        "        subsequence = sequence[i:i + window_size]\n",
        "        \n",
        "        # 跳过包含不确定碱基的片段\n",
        "        if (set(subsequence) | {'a', 't', 'c', 'g'}) != {'a', 't', 'c', 'g'}:\n",
        "            continue\n",
        "\n",
        "        # 计算分数\n",
        "        score = donor_score(subsequence, log_score)\n",
        "\n",
        "        # 将分数超过阈值的位点加入结果列表\n",
        "        if score > threshold:\n",
        "            donor_site.append(i + k1 + 1)\n",
        "    \n",
        "    return donor_site"
      ],
      "metadata": {
        "id": "dqPT3XA2jY36"
      },
      "execution_count": null,
      "outputs": []
    },
    {
      "cell_type": "markdown",
      "source": [
        "### 从数据集中提取序列片段\n",
        "为了后续数据处理方便，另外实现``get_sequence``函数，以从需要的数据集中提取阳性或阴性序列片段。\n",
        "\n",
        "``k1``、``k2``意义同上。``type``参数为``'positive'``或``'negative'``，对应输出阳性样本或阴性样本。"
      ],
      "metadata": {
        "id": "KVCoIXYBgFf8"
      }
    },
    {
      "cell_type": "code",
      "source": [
        "# get_sequence：从数据集中提取需要的序列片段\n",
        "def get_sequence(file_path, k1=4, k2=4, type='positive'):\n",
        "    sequence_list = []\n",
        "\n",
        "    # 逐个读取文件\n",
        "    print('Handling files in \\'' + file_path + '\\' ...')\n",
        "    for data_file in tqdm(os.listdir(file_path)):\n",
        "        with open(file_path + '/' + data_file, 'r') as FILE:\n",
        "            lines = FILE.readlines()\n",
        "            sequence = ''.join(lines[2:]).replace('\\n', '').lower()\n",
        "            donor_sites = re.findall('(\\d+)(?=,)', lines[1])\n",
        "\n",
        "            # 输出阳性样本\n",
        "            if type == 'positive':\n",
        "                for site in donor_sites:\n",
        "                    site_num = eval(site)\n",
        "                    subsequence = sequence[site_num - k1 - 1:site_num + k2]\n",
        "\n",
        "                    if (set(subsequence) | {'a', 't', 'c', 'g'}) != {'a', 't', 'c', 'g'}:\n",
        "                        continue\n",
        "\n",
        "                    sequence_list.append(subsequence)\n",
        "\n",
        "            # 输出阴性样本\n",
        "            else:\n",
        "                window_size = k1 + k2 + 1\n",
        "                seq_len = len(sequence)\n",
        "\n",
        "                for i in range(seq_len - window_size + 1):\n",
        "                    subsequence = sequence[i:i + window_size]\n",
        "\n",
        "                    if (set(subsequence) | {'a', 't', 'c', 'g'}) != {'a', 't', 'c', 'g'} \\\n",
        "                       or str(i + k1 + 1) in donor_sites:\n",
        "                        continue\n",
        "                    \n",
        "                    sequence_list.append(subsequence)\n",
        "\n",
        "    return sequence_list"
      ],
      "metadata": {
        "id": "da_bcFkxg5l4"
      },
      "execution_count": null,
      "outputs": []
    },
    {
      "cell_type": "markdown",
      "source": [
        "## 结果"
      ],
      "metadata": {
        "id": "yG64iAlrc3HU"
      }
    },
    {
      "cell_type": "markdown",
      "source": [
        "### 模型训练\n",
        "使用训练集中的序列，依次执行“方法”段落中的WAM构建相关函数，得到打分表。"
      ],
      "metadata": {
        "id": "6v2tMq0iIg7x"
      }
    },
    {
      "cell_type": "code",
      "source": [
        "# 统计训练集中的碱基频数\n",
        "foreground_freq, background_freq, total_freq = nucleotide_frequency_count(training_path)\n",
        "# 计算对数打分表\n",
        "log_score = calculate_log_score(foreground_freq, background_freq, total_freq)"
      ],
      "metadata": {
        "id": "sSVJlHYvbwAv"
      },
      "execution_count": null,
      "outputs": []
    },
    {
      "cell_type": "markdown",
      "source": [
        "### 阈值的确定\n",
        "提取出训练集中的donor位点片段，设置不同的阈值，计算召回率并绘图。\n",
        "\n",
        "可以看出召回率在7后开始出现较大幅度的下降，故将后续计算中的阈值设置为7。"
      ],
      "metadata": {
        "id": "HSjl0DP0exhm"
      }
    },
    {
      "cell_type": "code",
      "source": [
        "# 获取donor位点序列片段\n",
        "donor_sequences = get_sequence(training_path, type='positive')\n",
        "\n",
        "# 计算每个donor位点序列片段的分数\n",
        "score_list = [donor_score(x, log_score) for x in donor_sequences]\n",
        "score_array = np.array(score_list)\n",
        "\n",
        "# 设置不同阈值，计算召回率\n",
        "thresholds = np.linspace(score_array.min(), score_array.max(), 100)\n",
        "recall_list = [np.sum(score_array > t) / score_array.shape for t in thresholds]\n",
        "recall_array = np.array(recall_list).reshape(-1)\n",
        "\n",
        "# 绘图\n",
        "plt.xlabel('Threshold')\n",
        "plt.ylabel('Recall')\n",
        "plt.plot(thresholds, recall_array)"
      ],
      "metadata": {
        "id": "YvUMtcvIenUm"
      },
      "execution_count": null,
      "outputs": []
    },
    {
      "cell_type": "markdown",
      "source": [
        "### 进行预测\n",
        "从验证集中选取一个文件为例。使用上面的阈值和``search_donor_site``函数，对序列中的donor位点进行预测，以确认算法能否正常运行。\n",
        "\n",
        "可以看出，虽然WAM顺利预测出了序列中存在的donor位点，但是序列中存在大量的假阳性结果。"
      ],
      "metadata": {
        "id": "DVmh_qrcs1jQ"
      }
    },
    {
      "cell_type": "code",
      "source": [
        "# 选取一个文件，从中得到序列\n",
        "file_path = testing_path + '/ACU08131.TXT'\n",
        "\n",
        "with open(file_path, 'r') as FILE:\n",
        "    lines = FILE.readlines()\n",
        "    sequence = ''.join(lines[2:]).replace('\\n', '').lower()\n",
        "    \n",
        "    # 提取出实际的donor位点\n",
        "    donor_sites = re.findall('(\\d+)(?=,)', lines[1])\n",
        "    \n",
        "    # 预测donor位点\n",
        "    predict_donor_sites = search_donor_site(sequence, log_score, threshold=7)\n",
        "\n",
        "    print('Actural donor sites: \\n[', ', '.join(donor_sites) + ']', sep='')\n",
        "    print('Predicted donor sites: \\n', predict_donor_sites, sep='')"
      ],
      "metadata": {
        "id": "tbpI5qUqtKA5"
      },
      "execution_count": null,
      "outputs": []
    },
    {
      "cell_type": "markdown",
      "source": [
        "## 讨论"
      ],
      "metadata": {
        "id": "jwURxbIDv8I9"
      }
    },
    {
      "cell_type": "markdown",
      "source": [
        "从验证集中获取阳性donor位点样本和阴性样本，并计算所有样本的分数，用于后续的性能评估。"
      ],
      "metadata": {
        "id": "cxseIrrqIpw5"
      }
    },
    {
      "cell_type": "code",
      "source": [
        "# 样本的获取\n",
        "positive_seq = get_sequence(testing_path, type='positive')\n",
        "negative_seq = get_sequence(testing_path, type='negative')\n",
        "\n",
        "# 合并成一个列表\n",
        "test_sample = positive_seq + negative_seq\n",
        "test_true = [1] * len(positive_seq) + [0] * len(negative_seq)\n",
        "\n",
        "# 分数的计算\n",
        "print('Handling samples ...')\n",
        "test_score = [donor_score(x, log_score) for x in tqdm(test_sample)]"
      ],
      "metadata": {
        "id": "Ghu_Hh_4wj2D"
      },
      "execution_count": null,
      "outputs": []
    },
    {
      "cell_type": "markdown",
      "source": [
        "### ROC曲线与AUC\n",
        "使用上面得到的样本，绘制ROC曲线，并计算曲线下面积（AUC）。\n",
        "\n",
        "得到结果为$AUC=0.9967$"
      ],
      "metadata": {
        "id": "BmSjL7Ik9WZl"
      }
    },
    {
      "cell_type": "code",
      "source": [
        "# 计算ROC曲线和AUC\n",
        "test_score_noinf = [-1000 if x == -np.inf else x for x in test_score]\n",
        "fpr, tpr, thresholds = roc_curve(test_true, test_score_noinf)\n",
        "AUC = auc(fpr, tpr)\n",
        "\n",
        "# 绘图\n",
        "plt.xlabel('fpr')\n",
        "plt.ylabel('tpr')\n",
        "plt.plot(fpr, tpr)\n",
        "print('AUC =', AUC)"
      ],
      "metadata": {
        "id": "ByseOT2P9f38"
      },
      "execution_count": null,
      "outputs": []
    },
    {
      "cell_type": "markdown",
      "source": [
        "### F1-score与阈值的关系\n",
        "在“结果”部分中，注意到使用基于召回率得到的阈值时，结果存在大量的假阳性。因此使用刚才计算出的分数，绘制F1-score与阈值的关系图。\n",
        "\n",
        "根据先前的召回率计算，将绘图的阈值范围设定在2到13。从图中可以看出，F1-score最大时也未能超过0.35，对应的阈值的召回率已低于0.5。\n"
      ],
      "metadata": {
        "id": "GfzCoAkzyVUn"
      }
    },
    {
      "cell_type": "code",
      "source": [
        "thresholds = np.linspace(2, 13, 100)\n",
        "F1_list = []\n",
        "\n",
        "# 设置不同阈值，计算F1-score\n",
        "print('Calculating F1-score ...')\n",
        "for t in tqdm(thresholds):\n",
        "    test_pred = [1 if x > t else 0 for x in test_score]\n",
        "    F1_list.append(f1_score(test_true, test_pred))\n",
        "\n",
        "# 绘图\n",
        "plt.xlabel('Threshold')\n",
        "plt.ylabel('F1-score')\n",
        "plt.plot(thresholds, F1_list)"
      ],
      "metadata": {
        "id": "V06d1V8yzO-H"
      },
      "execution_count": null,
      "outputs": []
    },
    {
      "cell_type": "markdown",
      "source": [
        "### 最佳阈值的混淆矩阵\n",
        "采用F1-score最大时的阈值，作为最佳阈值。并基于最佳阈值计算混淆矩阵。\n",
        "\n",
        "输出结果中：\n",
        "* 第一行、第二行对应实际的阴性样本和阳性样本\n",
        "* 第一列、第二列对应预测的阴性和阳性结果\n",
        "\n",
        "对应到输出结果中则是：\n",
        "\n",
        "[[TN    FP]\n",
        "\n",
        " [FN    TP]]"
      ],
      "metadata": {
        "id": "YTRMy7X8Avk0"
      }
    },
    {
      "cell_type": "code",
      "source": [
        "# 获取最佳阈值\n",
        "best_threshold = thresholds[np.argmax(F1_list)]\n",
        "\n",
        "# 计算混淆矩阵\n",
        "test_pred = [1 if x > best_threshold else 0 for x in test_score]\n",
        "conf_matrix = confusion_matrix(test_true, test_pred)\n",
        "\n",
        "print(conf_matrix)"
      ],
      "metadata": {
        "id": "XAa7mInB20Cs"
      },
      "execution_count": null,
      "outputs": []
    },
    {
      "cell_type": "markdown",
      "source": [
        "## 结论\n",
        "虽然WAM模型基于理论上最优性能的贝叶斯判别器，原理简单易懂，易于训练。但是在实际应用中，存在假阳性率过高的问题，且难以选择合理的阈值。至少，基于本次上机能获取的有限的数据，在donor位点识别的任务上，WAM模型的效果并不理想。"
      ],
      "metadata": {
        "id": "Mb0ySwkWEkvm"
      }
    }
  ]
}