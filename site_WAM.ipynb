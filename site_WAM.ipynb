{
  "nbformat": 4,
  "nbformat_minor": 0,
  "metadata": {
    "colab": {
      "name": "site_WAM.ipynb",
      "provenance": [],
      "authorship_tag": "ABX9TyOJhTSsJijd8VE2l+A85sqV"
    },
    "kernelspec": {
      "name": "python3",
      "display_name": "Python 3"
    },
    "language_info": {
      "name": "python"
    }
  },
  "cells": [
    {
      "cell_type": "markdown",
      "source": [
        "# 使用WAM预测剪接位点\n"
      ],
      "metadata": {
        "id": "lyUKqlbyjPx9"
      }
    },
    {
      "cell_type": "code",
      "source": [
        "#导入依赖\n",
        "import numpy as np"
      ],
      "metadata": {
        "id": "gk4SJZRFjXMG"
      },
      "execution_count": 1,
      "outputs": []
    }
  ]
}