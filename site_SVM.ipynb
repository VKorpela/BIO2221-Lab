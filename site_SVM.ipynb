{
  "nbformat": 4,
  "nbformat_minor": 0,
  "metadata": {
    "colab": {
      "name": "site_SVM.ipynb",
      "provenance": [],
      "collapsed_sections": [],
      "authorship_tag": "ABX9TyNGiBlr7AZSTwbf2CEGaKKw"
    },
    "kernelspec": {
      "name": "python3",
      "display_name": "Python 3"
    },
    "language_info": {
      "name": "python"
    }
  },
  "cells": [
    {
      "cell_type": "markdown",
      "source": [
        "# 使用WAM预测donor位点\n",
        "> 生科登峰1901班，吴思承\n",
        ">\n",
        "> U201912536"
      ],
      "metadata": {
        "id": "vEBRvynSODF9"
      }
    },
    {
      "cell_type": "markdown",
      "source": [
        "## 概述\n",
        "真核生物的基因包含外显子和内含子，在转录完成后，需要进行加工，选择性地将外显子连接起来，最终得到成熟的mRNA。而研究显示，在内含子与外显子的边界上，存在保守的剪接位点。其中，我们将位于内含子左侧（5'端）的剪接位点称为供体（donor），而位于内含子右侧（3'端）的剪接位点称为受体（acceptor）。\n",
        "\n",
        "在基因预测工作中，研究人员往往需要明确DNA中实际编码蛋白质的部分。此时便需要预测RNA上的选择性剪接方式，而作为内含子边界上的保守序列，donor位点的识别对内含子、外显子的位置、数量的确定有着巨大的用处。\n",
        "\n",
        "预测donor位点的方法包括WMM、WAM到SVN、神经网络等，颇为丰富。本上机报告选择实现其中的SVM模型，并对其实际预测效果进行评估。"
      ],
      "metadata": {
        "id": "EBPoPjhZOFIu"
      }
    },
    {
      "cell_type": "markdown",
      "source": [
        "## 方法"
      ],
      "metadata": {
        "id": "w4yl9rQMOLwi"
      }
    },
    {
      "cell_type": "markdown",
      "source": [
        "### SVM的原理\n"
      ],
      "metadata": {
        "id": "-gE_eQhKONAV"
      }
    },
    {
      "cell_type": "markdown",
      "source": [
        "### 依赖加载与数据挂载\n",
        "与先前的WAM上机任务类似，在本次上机中，本人同样使用Python（Jupyter Notebook）实现SVM模型。代码在Google Colab的云服务上运行，数据存储在账号对应的Google Drive中。\n",
        "\n",
        "调用的依赖库中，``os``用于读取文件，``re``用于正则表达式辨别数据中的外显子信息，``random``提供随机采样函数，``matplotlib``用于绘制图像，``tqdm``用于生成数据读取的进度条，``sklearn``用于提供现成的模型性能评估方法和SVM实现。"
      ],
      "metadata": {
        "id": "PiXlYxczOOxn"
      }
    },
    {
      "cell_type": "code",
      "source": [
        "import os\n",
        "import re\n",
        "import random\n",
        "import numpy as np\n",
        "import matplotlib.pyplot as plt\n",
        "from tqdm import tqdm\n",
        "from sklearn.svm import SVC\n",
        "from sklearn.metrics import roc_curve, auc, f1_score, confusion_matrix\n",
        "\n",
        "# 挂载Google Drive\n",
        "from google.colab import drive\n",
        "drive.mount('/content/drive')\n",
        "\n",
        "# 数据储存路径\n",
        "training_path = '/content/drive/MyDrive/Collab Files/donor_dataset/testing'\n",
        "testing_path = '/content/drive/MyDrive/Collab Files/donor_dataset/testing'\n"
      ],
      "metadata": {
        "colab": {
          "base_uri": "https://localhost:8080/"
        },
        "id": "dFnzO9hOOiZU",
        "outputId": "141f22f9-1e1a-4884-c6b3-b5b4dbc7b1d8"
      },
      "execution_count": 6,
      "outputs": [
        {
          "output_type": "stream",
          "name": "stdout",
          "text": [
            "Drive already mounted at /content/drive; to attempt to forcibly remount, call drive.mount(\"/content/drive\", force_remount=True).\n"
          ]
        }
      ]
    },
    {
      "cell_type": "markdown",
      "source": [
        "### 从数据集中提取序列片段\n",
        "与WAM不同，SVM不仅仅通过统计donor位点附近的碱基分布来构建打分表，而是需要同时使用阳性样本和阴性样本的序列片段来构建判别器。因此需要对训练数据中的各种序列片段进行提取。\n",
        "\n",
        "下面的``get_sequence``函数重复使用了WAM上机任务中的代码。"
      ],
      "metadata": {
        "id": "ImRIJJrLPzUG"
      }
    },
    {
      "cell_type": "code",
      "source": [
        "# get_sequence：从数据集中提取需要的序列片段\n",
        "def get_sequence(file_path, k1=4, k2=4, type='positive'):\n",
        "    sequence_list = []\n",
        "\n",
        "    # 逐个读取文件\n",
        "    print('Handling files in \\'' + file_path + '\\' ...')\n",
        "    for data_file in tqdm(os.listdir(file_path)):\n",
        "        with open(file_path + '/' + data_file, 'r') as FILE:\n",
        "            lines = FILE.readlines()\n",
        "            sequence = ''.join(lines[2:]).replace('\\n', '').lower()\n",
        "            donor_sites = re.findall('(\\d+)(?=,)', lines[1])\n",
        "\n",
        "            # 输出阳性样本\n",
        "            if type == 'positive':\n",
        "                for site in donor_sites:\n",
        "                    site_num = eval(site)\n",
        "                    subsequence = sequence[site_num - k1 - 1:site_num + k2]\n",
        "\n",
        "                    if (set(subsequence) | {'a', 't', 'c', 'g'}) != {'a', 't', 'c', 'g'}:\n",
        "                        continue\n",
        "\n",
        "                    sequence_list.append(subsequence)\n",
        "\n",
        "            # 输出阴性样本\n",
        "            else:\n",
        "                window_size = k1 + k2 + 1\n",
        "                seq_len = len(sequence)\n",
        "\n",
        "                for i in range(seq_len - window_size + 1):\n",
        "                    subsequence = sequence[i:i + window_size]\n",
        "\n",
        "                    if (set(subsequence) | {'a', 't', 'c', 'g'}) != {'a', 't', 'c', 'g'} \\\n",
        "                       or str(i + k1 + 1) in donor_sites:\n",
        "                        continue\n",
        "                    \n",
        "                    sequence_list.append(subsequence)\n",
        "\n",
        "    return sequence_list"
      ],
      "metadata": {
        "id": "LMkH4TujP3jD"
      },
      "execution_count": 2,
      "outputs": []
    },
    {
      "cell_type": "markdown",
      "source": [
        "### 对序列进行one-hot编码\n",
        "由于SVM将样本序列视为高维空间中的一个点（向量），用0~3的数字来表示某一位置上的碱基将会引入原始数据中不存在的位置关系，可能会对模型产生负面影响。因此，有必要对碱基进行one-hot编码（独热编码），将离散的碱基映射到欧氏空间中，并确保不同碱基之间的距离相同，以便后续训练。\n",
        "\n",
        "函数``one_hot_sequence``将输入的序列处理为one-hot编码的numpy数组，输出的数组长度将会是输入序列长度的4倍。\n",
        "\n",
        "碱基到one-hot编码的映射关系储存在字典``nucleotide_to_array``中。与WAM中的处理方法类似，表示不确定碱基的``n``、``b``等将会被直接忽略。"
      ],
      "metadata": {
        "id": "Ul6qxC7dQ_pu"
      }
    },
    {
      "cell_type": "code",
      "source": [
        "# nucleotide_to_array：提供从碱基到one-hot编码的映射关系\n",
        "nucleotide_to_array = {\n",
        "    'a': np.array([1, 0, 0, 0], dtype=float),\n",
        "    't': np.array([0, 1, 0, 0], dtype=float),\n",
        "    'c': np.array([0, 0, 1, 0], dtype=float),\n",
        "    'g': np.array([0, 0, 0, 1], dtype=float)\n",
        "}\n",
        "\n",
        "print('nucleotide_to_array: ', nucleotide_to_array)"
      ],
      "metadata": {
        "colab": {
          "base_uri": "https://localhost:8080/"
        },
        "id": "tvuA_R2tTH0c",
        "outputId": "105eae9a-a802-4100-c15e-70d552efc4a9"
      },
      "execution_count": 3,
      "outputs": [
        {
          "output_type": "stream",
          "name": "stdout",
          "text": [
            "nucleotide_to_array:  {'a': array([1., 0., 0., 0.]), 't': array([0., 1., 0., 0.]), 'c': array([0., 0., 1., 0.]), 'g': array([0., 0., 0., 1.])}\n"
          ]
        }
      ]
    },
    {
      "cell_type": "code",
      "source": [
        "# one_hot_sequence：将序列处理为one-hot编码的数组\n",
        "def one_hot_sequence(sequence, nucleotide_to_array=nucleotide_to_array):\n",
        "    one_hot_list = [nucleotide_to_array[nt] for nt in sequence]\n",
        "    one_hot_array = np.array(one_hot_list).reshape(-1)\n",
        "    return one_hot_array"
      ],
      "metadata": {
        "id": "3L3tAjZATxh8"
      },
      "execution_count": 4,
      "outputs": []
    },
    {
      "cell_type": "markdown",
      "source": [
        "### 构建训练集\n",
        "结合前面的两个函数，按照需要构建one-hot编码完毕的数据集，用于训练。\n",
        "\n",
        "函数``build_dataset``返回两个列表``data_list``和``data_class``，分别储存编码后的样本序列和样本的类型（是否是donor位点附近序列）。输入中的``pos_num``和``neg_num``为数据集中阳性样本和阴性样本的数量，为默认值``None``或大于样本总数时输出全部样本。"
      ],
      "metadata": {
        "id": "ESMBXmgvWhkC"
      }
    },
    {
      "cell_type": "code",
      "source": [
        "# build_dataset：构建训练集\n",
        "def build_dataset(file_path, pos_num=None, neg_num=None, k1=4, k2=4):\n",
        "    # 从训练用文件中提取所有的序列\n",
        "    positive_seq = get_sequence(file_path, k1, k2, 'positive')\n",
        "    negative_seq = get_sequence(file_path, k1, k2, 'negative')\n",
        "\n",
        "    # 随机选取pos_num个阳性样本\n",
        "    if pos_num != None and pos_num < len(positive_seq):\n",
        "        index = random.sample(range(len(positive_seq)), pos_num)\n",
        "        positive_list = [one_hot_sequence(positive_seq[i]) for i in index]\n",
        "    else:\n",
        "        positive_list = [one_hot_sequence(seq) for seq in positive_seq]\n",
        "    \n",
        "    # 随机选取neg_num个阴性样本\n",
        "    if neg_num != None and neg_num < len(negative_seq):\n",
        "        index = random.sample(range(len(negative_seq)), pos_num)\n",
        "        negative_list = [one_hot_sequence(negative_seq[i]) for i in index]\n",
        "    else:\n",
        "        negative_list = [one_hot_sequence(seq) for seq in negative_seq]\n",
        "\n",
        "    # 合并成训练集\n",
        "    data_list = positive_list + negative_list\n",
        "    data_class = [1] * len(positive_list) + [0] * len(negative_list)\n",
        "\n",
        "    return data_list, data_class"
      ],
      "metadata": {
        "id": "HaoKzc1mXfv3"
      },
      "execution_count": 7,
      "outputs": []
    },
    {
      "cell_type": "code",
      "source": [
        ""
      ],
      "metadata": {
        "id": "bPM2SXs_ajNE"
      },
      "execution_count": null,
      "outputs": []
    }
  ]
}